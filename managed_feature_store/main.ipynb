{
  "cells": [
    {
      "cell_type": "markdown",
      "metadata": {},
      "source": [
        "# Develop a Managed Feature Store\n",
        "This notebook demonstrates the development and registration of a feature store using Azure ML and Spark."
      ]
    },
    {
      "cell_type": "code",
      "execution_count": null,
      "metadata": {},
      "outputs": [],
      "source": [
        "from pyspark.sql import SparkSession\n",
        "import os\n",
        "from azure.ai.ml import MLClient\n",
        "from azureml.featurestore import FeatureStoreClient\n",
        "from azure.ai.ml.identity import AzureMLOnBehalfOfCredential\n",
        "from azure.ai.ml.entities import FeatureStoreEntity, DataColumn, DataColumnType\n",
        "from azure.ai.ml.entities import FeatureSet, FeatureSetSpecification"
      ]
    },
    {
      "cell_type": "markdown",
      "metadata": {},
      "source": [
        "## Project Setup\n",
        "Initialize the Spark session and check if the root directory exists."
      ]
    },
    {
      "cell_type": "code",
      "execution_count": null,
      "metadata": {},
      "outputs": [],
      "source": [
        "# Print statement for indicating that the Spark session will be started\n",
        "print(\"Spark session has been started\")"
      ]
    },
    {
      "cell_type": "code",
      "execution_count": null,
      "metadata": {},
      "outputs": [],
      "source": [
        "# Initialize Spark session to work with distributed data processing\n",
        "spark = SparkSession.builder.appName(\"AzureML Spark Example\").getOrCreate()"
      ]
    },
    {
      "cell_type": "code",
      "execution_count": null,
      "metadata": {},
      "outputs": [],
      "source": [
        "# Check if the root directory exists\n",
        "root_dir = \".\"\n",
        "\n",
        "if os.path.isdir(root_dir):\n",
        "    print(\"The folder exists.\")\n",
        "else:\n",
        "    print(\"The folder does not exist. Please create or fix the path\")"
      ]
    },
    {
      "cell_type": "markdown",
      "metadata": {},
      "source": [
        "## Create Feature Store\n",
        "Define the feature store name, location, subscription ID, and resource group."
      ]
    },
    {
      "cell_type": "code",
      "execution_count": null,
      "metadata": {},
      "outputs": [],
      "source": [
        "# Define details for the feature store such as name, location, subscription, and resource group\n",
        "featurestore_name = \"fstore-2024-ch\"\n",
        "featurestore_location = \"West Europe\"\n",
        "featurestore_subscription_id = \"796313f9-881f-4bee-bd46-ba6ad10afbb4\"\n",
        "featurestore_resource_group_name = \"rg-ml-2024-ch\""
      ]
    },
    {
      "cell_type": "code",
      "execution_count": null,
      "metadata": {},
      "outputs": [],
      "source": [
        "# Create the FeatureStoreClient object for managing the feature store\n",
        "featurestore = FeatureStoreClient(\n",
        "    credential=AzureMLOnBehalfOfCredential(), \n",
        "    subscription_id=featurestore_subscription_id,\n",
        "    resource_group_name=featurestore_resource_group_name,\n",
        "    name=featurestore_name,\n",
        ")"
      ]
    },
    {
      "cell_type": "markdown",
      "metadata": {},
      "source": [
        "## Explore Data\n",
        "Load and display taxi trips data stored in Azure Blob Storage."
      ]
    },
    {
      "cell_type": "code",
      "execution_count": null,
      "metadata": {},
      "outputs": [],
      "source": [
        "# Load the taxi trips dataset from Azure Data Lake using Spark\n",
        "trips_source_data_path = \"abfss://taxi@sadataplatform2024ch.dfs.core.windows.net/yellow/puYear=*/puMonth=*/*.parquet\"\n",
        "trips_src_df = spark.read.parquet(trips_source_data_path)  # Read the parquet data using Spark\n",
        "trips_src_df.show(truncate=False)  # Display the dataset; may take time depending on data size"
      ]
    },
    {
      "cell_type": "markdown",
      "metadata": {},
      "source": [
        "## Register a Feature Store Entity\n",
        "Create a feature store entity representing the `trip` data and register it with Azure ML."
      ]
    },
    {
      "cell_type": "code",
      "execution_count": null,
      "metadata": {},
      "outputs": [],
      "source": [
        "# Initialize the MLClient to interact with the Azure ML workspace\n",
        "taxi_client = MLClient(\n",
        "    AzureMLOnBehalfOfCredential(),  # Use the On-Behalf-Of credential for authentication\n",
        "    featurestore_subscription_id,\n",
        "    featurestore_resource_group_name,\n",
        "    featurestore_name,\n",
        ")"
      ]
    },
    {
      "cell_type": "code",
      "execution_count": null,
      "metadata": {},
      "outputs": [],
      "source": [
        "# Create a new feature store entity for representing trip data\n",
        "trip_entity_config = FeatureStoreEntity(\n",
        "    name=\"trip\",  # Name of the entity\n",
        "    version=\"1\",  # Versioning the entity\n",
        "    index_columns=[  # Specify the index columns (primary keys) for the entity\n",
        "        DataColumn(name=\"vendorID\", type=DataColumnType.STRING),  # Vendor ID is a string column\n",
        "        DataColumn(name=\"tpepPickupDateTime\", type=DataColumnType.DATETIME),  # Pickup datetime\n",
        "        DataColumn(name=\"doLocationId\", type=DataColumnType.STRING)  # Drop-off location ID\n",
        "    ],\n",
        "    stage=\"Development\",  # Set the development stage for the entity\n",
        "    description=\"Entity representing trips.\",  # Description of the entity\n",
        "    tags={\"data_type\": \"nonPII\"}  # Tag indicating data is not personally identifiable\n",
        ")\n",
        "\n",
        "# Register the entity with the feature store\n",
        "poller = taxi_client.feature_store_entities.begin_create_or_update(trip_entity_config)\n",
        "print(poller.result())  # Print the result of the operation"
      ]
    },
    {
      "cell_type": "markdown",
      "metadata": {},
      "source": [
        "## Register the Feature Set with the Feature Store\n",
        "Register a feature set that includes aggregated taxi trip features."
      ]
    },
    {
      "cell_type": "code",
      "execution_count": null,
      "metadata": {},
      "outputs": [],
      "source": [
        "# Create the feature set for taxi trips and register it with the feature store\n",
        "trip_fset_config = FeatureSet(\n",
        "    name=\"taxi_trips\",  # Feature set name\n",
        "    version=\"1\",  # Version of the feature set\n",
        "    description=\"7-day and 3-day rolling aggregation of taxi trips\",  # Description of the feature set\n",
        "    entities=[\"azureml:trip:1\"],  # Link the previously created trip entity\n",
        "    stage=\"Development\",  # Development stage\n",
        "    specification=FeatureSetSpecification(path=root_dir + \"/mtransform.py\"),  # Path to the transformation script\n",
        "    tags={\"data_type\": \"nonPII\"},  # Tag indicating the type of data\n",
        ")\n",
        "\n",
        "# Register the feature set\n",
        "poller = taxi_client.feature_sets.begin_create_or_update(trip_fset_config)\n",
        "print(poller.result())  # Print the result of the operation"
      ]
    }
  ],
  "metadata": {
    "kernelspec": {
      "display_name": "Synapse PySpark",
      "name": "synapse_pyspark"
    },
    "language_info": {
      "name": "python"
    }
  },
  "nbformat": 4,
  "nbformat_minor": 2
}
